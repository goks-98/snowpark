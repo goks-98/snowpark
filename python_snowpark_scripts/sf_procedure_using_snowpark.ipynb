{
 "cells": [
  {
   "cell_type": "code",
   "execution_count": null,
   "metadata": {},
   "outputs": [],
   "source": [
    "%pip install snowflake-connector-python"
   ]
  },
  {
   "cell_type": "code",
   "execution_count": null,
   "metadata": {},
   "outputs": [],
   "source": [
    "#Importing required libraries\n",
    "\n",
    "import os\n",
    "from snowflake.snowpark import Session\n",
    "from snowflake.snowpark.functions import sproc\n",
    "from snowflake.snowpark.types import StringType\n",
    "import pandas as pd\n",
    "from dotenv import load_dotenv"
   ]
  },
  {
   "cell_type": "code",
   "execution_count": null,
   "metadata": {},
   "outputs": [],
   "source": [
    "#Load Env variables\n",
    "load_dotenv()\n",
    "\n",
    "#Setup Credentials \n",
    "api_key = os.getenv('api_key')\n",
    "account = os.getenv('account')\n",
    "user = os.getenv('user')\n",
    "password = os.getenv('password')\n",
    "role = os.getenv('role')\n",
    "warehouse = os.getenv('warehouse')\n",
    "database = os.getenv('database')\n",
    "schema = os.getenv('schema')\n",
    "stage = os.getenv(\"stage\")"
   ]
  },
  {
   "cell_type": "code",
   "execution_count": null,
   "metadata": {},
   "outputs": [],
   "source": [
    "#Connecting to Snowflake\n",
    "\n",
    "connection_parameters = {\n",
    "\"account\": account,\n",
    "\"user\": user,\n",
    "\"password\": password,\n",
    "\"role\": role,\n",
    "\"warehouse\": warehouse,\n",
    "\"database\": database,\n",
    "\"schema\": schema\n",
    " }\n",
    "\n",
    "#Creating a snowflake session\n",
    "session = Session.builder.configs(connection_parameters).create() "
   ]
  },
  {
   "cell_type": "code",
   "execution_count": null,
   "metadata": {},
   "outputs": [],
   "source": [
    "#Defining Stored procedure logic within the function\n",
    "\n",
    "@sproc(name=\"sproc_snowpark_demo\", is_permanent=True, stage_location= stage, replace=True)\n",
    "def sproc_snowpark_demo(session: Session) -> str:\n",
    "    session.sql(\"\"\"TRUNCATE TABLE TEMP_DB.PUBLIC.CUSTOMER_TABLE;\"\"\").collect()\n",
    "\n",
    "    session.sql(\"\"\" INSERT INTO TEMP_DB.PUBLIC.CUSTOMER_TABLE\n",
    "                            (\n",
    "                                CUSTOMER_ID,         \n",
    "                                DATE,                \n",
    "                                SALUTATION,          \n",
    "                                FIRST_NAME,          \n",
    "                                LAST_NAME\n",
    "                             )\n",
    "                    SELECT C_CUSTOMER_SK\n",
    "                                , TO_CHAR(D_DATE, 'YYYYMMDD')\n",
    "                                , C_SALUTATION\n",
    "                                , C_FIRST_NAME\n",
    "                                , C_LAST_NAME\n",
    "                    FROM SNOWFLAKE_SAMPLE_DATA.TPCDS_SF100TCL.CUSTOMER C\n",
    "                    JOIN SNOWFLAKE_SAMPLE_DATA.TPCDS_SF100TCL.DATE_DIM D \n",
    "                    ON D_DATE_SK = C_FIRST_SHIPTO_DATE_SK\n",
    "                    LIMIT 100\n",
    "                    \"\"\").collect()\n",
    "\n",
    "    result_df = session.sql(\"SELECT * FROM TEMP_DB.PUBLIC.CUSTOMER_TABLE\").collect()\n",
    "\n",
    "    return result_df"
   ]
  },
  {
   "cell_type": "code",
   "execution_count": null,
   "metadata": {},
   "outputs": [],
   "source": [
    "#Calling the stored procedure\n",
    "\n",
    "session.sql(\"\"\"CALL sproc_snowpark_demo()\n",
    "             \"\"\").show()"
   ]
  }
 ],
 "metadata": {
  "kernelspec": {
   "display_name": "venv",
   "language": "python",
   "name": "python3"
  },
  "language_info": {
   "codemirror_mode": {
    "name": "ipython",
    "version": 3
   },
   "file_extension": ".py",
   "mimetype": "text/x-python",
   "name": "python",
   "nbconvert_exporter": "python",
   "pygments_lexer": "ipython3",
   "version": "3.8.0"
  },
  "orig_nbformat": 4,
  "vscode": {
   "interpreter": {
    "hash": "f8e4faccb72ebd62ac538de868191176a81fc3311176055798d95799e8a8500e"
   }
  }
 },
 "nbformat": 4,
 "nbformat_minor": 2
}
