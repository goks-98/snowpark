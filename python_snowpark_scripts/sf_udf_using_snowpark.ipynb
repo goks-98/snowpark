{
 "cells": [
  {
   "cell_type": "code",
   "execution_count": 1,
   "metadata": {},
   "outputs": [],
   "source": [
    "import pandas as pd\n",
    "from snowflake.snowpark import Session\n",
    "from snowflake.snowpark.functions import udf\n",
    "from snowflake.snowpark.types import DecimalType\n",
    "import os\n",
    "from dotenv import load_dotenv"
   ]
  },
  {
   "cell_type": "code",
   "execution_count": 2,
   "metadata": {},
   "outputs": [
    {
     "data": {
      "text/plain": [
       "True"
      ]
     },
     "execution_count": 2,
     "metadata": {},
     "output_type": "execute_result"
    }
   ],
   "source": [
    "#Load Environment Variables\n",
    "load_dotenv()"
   ]
  },
  {
   "cell_type": "code",
   "execution_count": 3,
   "metadata": {},
   "outputs": [],
   "source": [
    "#Setting up credentials\n",
    "\n",
    "account = os.getenv('account')\n",
    "user = os.getenv('user')\n",
    "password = os.getenv('password')\n",
    "role = os.getenv('role')\n",
    "warehouse = os.getenv('warehouse')\n",
    "database = os.getenv('database')\n",
    "schema = os.getenv('schema')\n",
    "stage = os.getenv('stage')"
   ]
  },
  {
   "cell_type": "code",
   "execution_count": 4,
   "metadata": {},
   "outputs": [],
   "source": [
    "#Connecting to snowflake\n",
    "connection_parameters = {\n",
    "\"account\": account,\n",
    "\"user\": user,\n",
    "\"password\": password,\n",
    "\"role\": role,\n",
    "\"warehouse\": warehouse,\n",
    "\"database\": database,\n",
    "\"schema\": schema\n",
    " }\n",
    "\n",
    "#Creating a snowflake session\n",
    "session = Session.builder.configs(connection_parameters).create()"
   ]
  },
  {
   "cell_type": "code",
   "execution_count": 5,
   "metadata": {},
   "outputs": [],
   "source": [
    "def minus_one(x: float) -> float:\n",
    "  return x-1"
   ]
  },
  {
   "cell_type": "code",
   "execution_count": 6,
   "metadata": {},
   "outputs": [
    {
     "data": {
      "text/plain": [
       "<snowflake.snowpark.udf.UserDefinedFunction at 0x25d518ff640>"
      ]
     },
     "execution_count": 6,
     "metadata": {},
     "output_type": "execute_result"
    }
   ],
   "source": [
    "session.udf.register(\n",
    "    func = minus_one\n",
    "  , return_type = DecimalType(20,2)\n",
    "  , input_types = [DecimalType(20,2)]\n",
    "  , is_permanent = True\n",
    "  , name = 'minus_one'\n",
    "  , replace = True\n",
    "  , stage_location = stage\n",
    " )"
   ]
  },
  {
   "cell_type": "code",
   "execution_count": 7,
   "metadata": {},
   "outputs": [
    {
     "name": "stdout",
     "output_type": "stream",
     "text": [
      "----------------------------------------------------\n",
      "|\"I_CURRENT_PRICE\"  |\"MINUS_ONE(I_CURRENT_PRICE)\"  |\n",
      "----------------------------------------------------\n",
      "|4.44               |3.44                          |\n",
      "|2.10               |1.10                          |\n",
      "|3.49               |2.49                          |\n",
      "|3.28               |2.28                          |\n",
      "|3.19               |2.19                          |\n",
      "|1.16               |0.16                          |\n",
      "|9.81               |8.81                          |\n",
      "|4.81               |3.81                          |\n",
      "|2.18               |1.18                          |\n",
      "|74.39              |73.39                         |\n",
      "----------------------------------------------------\n",
      "\n"
     ]
    }
   ],
   "source": [
    "#Using SQL with snowpark session\n",
    "session.sql(\"\"\"SELECT I_CURRENT_PRICE, MINUS_ONE(I_CURRENT_PRICE) \n",
    "                FROM SNOWFLAKE_SAMPLE_DATA.TPCDS_SF100TCL.ITEM\"\"\").show()"
   ]
  }
 ],
 "metadata": {
  "kernelspec": {
   "display_name": "venv",
   "language": "python",
   "name": "python3"
  },
  "language_info": {
   "codemirror_mode": {
    "name": "ipython",
    "version": 3
   },
   "file_extension": ".py",
   "mimetype": "text/x-python",
   "name": "python",
   "nbconvert_exporter": "python",
   "pygments_lexer": "ipython3",
   "version": "3.8.0"
  },
  "orig_nbformat": 4,
  "vscode": {
   "interpreter": {
    "hash": "f8e4faccb72ebd62ac538de868191176a81fc3311176055798d95799e8a8500e"
   }
  }
 },
 "nbformat": 4,
 "nbformat_minor": 2
}
