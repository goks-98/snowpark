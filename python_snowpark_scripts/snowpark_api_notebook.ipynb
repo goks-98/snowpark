{
 "cells": [
  {
   "cell_type": "code",
   "execution_count": 6,
   "metadata": {},
   "outputs": [],
   "source": [
    "#Sample snowpark use case that connects to an api to do simple transformations on a snowflake sample table \n",
    "#and load into temp_db database\n",
    "\n",
    "#Importing required libraries\n",
    "from snowflake.snowpark import Session\n",
    "import requests\n",
    "import pandas as pd\n",
    "import os\n",
    "from dotenv import load_dotenv"
   ]
  },
  {
   "cell_type": "code",
   "execution_count": 7,
   "metadata": {},
   "outputs": [],
   "source": [
    "#load environment variables\n",
    "load_dotenv()\n",
    "\n",
    "api_key = os.getenv(\"api_key\")\n",
    "account = os.getenv(\"account\")\n",
    "user = os.getenv(\"user\")\n",
    "password = os.getenv(\"password\")\n",
    "role = os.getenv(\"role\")\n",
    "warehouse = os.getenv(\"warehouse\")\n",
    "database = os.getenv(\"database\")\n",
    "schema = os.getenv(\"schema\")"
   ]
  },
  {
   "cell_type": "code",
   "execution_count": 8,
   "metadata": {},
   "outputs": [],
   "source": [
    "#Connecting to snowflake\n",
    "connection_parameters = {\n",
    "\"account\": account,\n",
    "\"user\": user,\n",
    "\"password\": password,\n",
    "\"role\": role,\n",
    "\"warehouse\": warehouse,\n",
    "\"database\": database,\n",
    "\"schema\": schema\n",
    "}\n",
    "\n",
    "#Creating a snowflake session\n",
    "session = Session.builder.configs(connection_parameters).create()"
   ]
  },
  {
   "cell_type": "code",
   "execution_count": 9,
   "metadata": {},
   "outputs": [
    {
     "name": "stdout",
     "output_type": "stream",
     "text": [
      "----------------------------------------------------------------------------------------------------------------------------------------------------------------------------------------------------------------------------------------------------------\n",
      "|\"W_WAREHOUSE_SK\"  |\"W_WAREHOUSE_ID\"  |\"W_WAREHOUSE_NAME\"    |\"W_WAREHOUSE_SQ_FT\"  |\"W_STREET_NUMBER\"  |\"W_STREET_NAME\"  |\"W_STREET_TYPE\"  |\"W_SUITE_NUMBER\"  |\"W_CITY\"       |\"W_COUNTY\"         |\"W_STATE\"  |\"W_ZIP\"  |\"W_COUNTRY\"    |\"W_GMT_OFFSET\"  |\n",
      "----------------------------------------------------------------------------------------------------------------------------------------------------------------------------------------------------------------------------------------------------------\n",
      "|1                 |AAAAAAAABAAAAAAA  |Conventional childr   |977787               |651                |6th              |Parkway          |Suite 470         |Shiloh         |Franklin Parish    |LA         |79275    |United States  |-6.00           |\n",
      "|2                 |AAAAAAAACAAAAAAA  |Important issues liv  |138504               |600                |View First       |Avenue           |Suite P           |Greenwood      |Ziebach County     |SD         |58828    |United States  |-6.00           |\n",
      "|3                 |AAAAAAAADAAAAAAA  |Doors canno           |294242               |534                |Ash Laurel       |Dr.              |Suite 0           |Cedar Grove    |Raleigh County     |WV         |20411    |United States  |-5.00           |\n",
      "|4                 |AAAAAAAAEAAAAAAA  |Bad cards must make.  |621234               |368                |Wilson Elm       |Drive            |Suite 80          |Oakland        |Gage County        |NE         |69843    |United States  |-6.00           |\n",
      "|5                 |AAAAAAAAFAAAAAAA  |NULL                  |NULL                 |NULL               |NULL             |NULL             |NULL              |Midway         |Mesa County        |CO         |81904    |United States  |NULL            |\n",
      "|6                 |AAAAAAAAGAAAAAAA  |Local, mass universi  |838797               |957                |Lincoln Adams    |Dr.              |Suite X           |Cedar Grove    |Raleigh County     |WV         |20411    |United States  |-5.00           |\n",
      "|7                 |AAAAAAAAHAAAAAAA  |Quite effectiv        |662475               |69                 |7th Sunset       |Ct.              |Suite 350         |Pine Grove     |Raleigh County     |WV         |24593    |United States  |-5.00           |\n",
      "|8                 |AAAAAAAAIAAAAAAA  |Plain, reluctant      |514427               |410                |3rd              |ST               |Suite 370         |Pleasant Hill  |Huron County       |MI         |43604    |United States  |-5.00           |\n",
      "|9                 |AAAAAAAAJAAAAAAA  |Rooms cook            |73065                |420                |Spring           |Wy               |Suite I           |Georgetown     |Williamson County  |TN         |37057    |United States  |-5.00           |\n",
      "|10                |AAAAAAAAKAAAAAAA  |National, comple      |914242               |269                |Elm Madison      |Street           |Suite 90          |Midway         |Raleigh County     |WV         |21904    |United States  |-5.00           |\n",
      "----------------------------------------------------------------------------------------------------------------------------------------------------------------------------------------------------------------------------------------------------------\n",
      "\n"
     ]
    }
   ],
   "source": [
    "#Creating a snowflake dataframe\n",
    "df_table = session.table(\"SNOWFLAKE_SAMPLE_DATA.TPCDS_SF10TCL.WAREHOUSE\")\n",
    "df_table.show()"
   ]
  },
  {
   "cell_type": "code",
   "execution_count": 11,
   "metadata": {},
   "outputs": [
    {
     "data": {
      "text/html": [
       "<div>\n",
       "<style scoped>\n",
       "    .dataframe tbody tr th:only-of-type {\n",
       "        vertical-align: middle;\n",
       "    }\n",
       "\n",
       "    .dataframe tbody tr th {\n",
       "        vertical-align: top;\n",
       "    }\n",
       "\n",
       "    .dataframe thead th {\n",
       "        text-align: right;\n",
       "    }\n",
       "</style>\n",
       "<table border=\"1\" class=\"dataframe\">\n",
       "  <thead>\n",
       "    <tr style=\"text-align: right;\">\n",
       "      <th></th>\n",
       "      <th>W_WAREHOUSE_SK</th>\n",
       "      <th>W_WAREHOUSE_ID</th>\n",
       "      <th>W_WAREHOUSE_NAME</th>\n",
       "      <th>W_WAREHOUSE_SQ_FT</th>\n",
       "      <th>W_STREET_NUMBER</th>\n",
       "      <th>W_STREET_NAME</th>\n",
       "      <th>W_STREET_TYPE</th>\n",
       "      <th>W_SUITE_NUMBER</th>\n",
       "      <th>W_CITY</th>\n",
       "      <th>W_COUNTY</th>\n",
       "      <th>W_STATE</th>\n",
       "      <th>W_ZIP</th>\n",
       "      <th>W_COUNTRY</th>\n",
       "      <th>W_GMT_OFFSET</th>\n",
       "    </tr>\n",
       "  </thead>\n",
       "  <tbody>\n",
       "    <tr>\n",
       "      <th>0</th>\n",
       "      <td>1</td>\n",
       "      <td>AAAAAAAABAAAAAAA</td>\n",
       "      <td>Conventional childr</td>\n",
       "      <td>977787.0</td>\n",
       "      <td>651</td>\n",
       "      <td>6th</td>\n",
       "      <td>Parkway</td>\n",
       "      <td>Suite 470</td>\n",
       "      <td>Shiloh</td>\n",
       "      <td>Franklin Parish</td>\n",
       "      <td>LA</td>\n",
       "      <td>79275</td>\n",
       "      <td>United States</td>\n",
       "      <td>-6.0</td>\n",
       "    </tr>\n",
       "    <tr>\n",
       "      <th>1</th>\n",
       "      <td>2</td>\n",
       "      <td>AAAAAAAACAAAAAAA</td>\n",
       "      <td>Important issues liv</td>\n",
       "      <td>138504.0</td>\n",
       "      <td>600</td>\n",
       "      <td>View First</td>\n",
       "      <td>Avenue</td>\n",
       "      <td>Suite P</td>\n",
       "      <td>Greenwood</td>\n",
       "      <td>Ziebach County</td>\n",
       "      <td>SD</td>\n",
       "      <td>58828</td>\n",
       "      <td>United States</td>\n",
       "      <td>-6.0</td>\n",
       "    </tr>\n",
       "    <tr>\n",
       "      <th>2</th>\n",
       "      <td>3</td>\n",
       "      <td>AAAAAAAADAAAAAAA</td>\n",
       "      <td>Doors canno</td>\n",
       "      <td>294242.0</td>\n",
       "      <td>534</td>\n",
       "      <td>Ash Laurel</td>\n",
       "      <td>Dr.</td>\n",
       "      <td>Suite 0</td>\n",
       "      <td>Cedar Grove</td>\n",
       "      <td>Raleigh County</td>\n",
       "      <td>WV</td>\n",
       "      <td>20411</td>\n",
       "      <td>United States</td>\n",
       "      <td>-5.0</td>\n",
       "    </tr>\n",
       "    <tr>\n",
       "      <th>3</th>\n",
       "      <td>4</td>\n",
       "      <td>AAAAAAAAEAAAAAAA</td>\n",
       "      <td>Bad cards must make.</td>\n",
       "      <td>621234.0</td>\n",
       "      <td>368</td>\n",
       "      <td>Wilson Elm</td>\n",
       "      <td>Drive</td>\n",
       "      <td>Suite 80</td>\n",
       "      <td>Oakland</td>\n",
       "      <td>Gage County</td>\n",
       "      <td>NE</td>\n",
       "      <td>69843</td>\n",
       "      <td>United States</td>\n",
       "      <td>-6.0</td>\n",
       "    </tr>\n",
       "    <tr>\n",
       "      <th>4</th>\n",
       "      <td>5</td>\n",
       "      <td>AAAAAAAAFAAAAAAA</td>\n",
       "      <td>None</td>\n",
       "      <td>NaN</td>\n",
       "      <td>None</td>\n",
       "      <td>None</td>\n",
       "      <td>None</td>\n",
       "      <td>None</td>\n",
       "      <td>Midway</td>\n",
       "      <td>Mesa County</td>\n",
       "      <td>CO</td>\n",
       "      <td>81904</td>\n",
       "      <td>United States</td>\n",
       "      <td>NaN</td>\n",
       "    </tr>\n",
       "  </tbody>\n",
       "</table>\n",
       "</div>"
      ],
      "text/plain": [
       "   W_WAREHOUSE_SK    W_WAREHOUSE_ID      W_WAREHOUSE_NAME  W_WAREHOUSE_SQ_FT  \\\n",
       "0               1  AAAAAAAABAAAAAAA   Conventional childr           977787.0   \n",
       "1               2  AAAAAAAACAAAAAAA  Important issues liv           138504.0   \n",
       "2               3  AAAAAAAADAAAAAAA           Doors canno           294242.0   \n",
       "3               4  AAAAAAAAEAAAAAAA  Bad cards must make.           621234.0   \n",
       "4               5  AAAAAAAAFAAAAAAA                  None                NaN   \n",
       "\n",
       "  W_STREET_NUMBER W_STREET_NAME W_STREET_TYPE W_SUITE_NUMBER       W_CITY  \\\n",
       "0             651          6th        Parkway      Suite 470       Shiloh   \n",
       "1             600    View First        Avenue        Suite P    Greenwood   \n",
       "2             534    Ash Laurel           Dr.        Suite 0  Cedar Grove   \n",
       "3             368    Wilson Elm         Drive       Suite 80      Oakland   \n",
       "4            None          None          None           None       Midway   \n",
       "\n",
       "          W_COUNTY W_STATE  W_ZIP      W_COUNTRY  W_GMT_OFFSET  \n",
       "0  Franklin Parish      LA  79275  United States          -6.0  \n",
       "1   Ziebach County      SD  58828  United States          -6.0  \n",
       "2   Raleigh County      WV  20411  United States          -5.0  \n",
       "3      Gage County      NE  69843  United States          -6.0  \n",
       "4      Mesa County      CO  81904  United States           NaN  "
      ]
     },
     "execution_count": 11,
     "metadata": {},
     "output_type": "execute_result"
    }
   ],
   "source": [
    "#Converting it to pandas df\n",
    "df_pd = df_table.to_pandas()\n",
    "df_pd.head()"
   ]
  },
  {
   "cell_type": "code",
   "execution_count": 12,
   "metadata": {},
   "outputs": [],
   "source": [
    "#Getting weather data from API for every zipcode\n",
    "json_list = []\n",
    "try:\n",
    "    for i in df_pd['W_ZIP']:\n",
    "        response = requests.get(f\"http://api.openweathermap.org/geo/1.0/zip?zip={i},US&appid={api_key}\")\n",
    "        data = response.json()\n",
    "        json_list.append(data)\n",
    "except ValueError:\n",
    "    pass"
   ]
  },
  {
   "cell_type": "code",
   "execution_count": 13,
   "metadata": {},
   "outputs": [],
   "source": [
    "#Creating a new df with weather info and zip code\n",
    "zip_code = df_pd['W_ZIP']\n",
    "data = list(zip(zip_code, json_list))\n",
    "weather_df = pd.DataFrame(data=data, columns=['W_ZIP', 'WEATHER_JSON'])"
   ]
  },
  {
   "cell_type": "code",
   "execution_count": 14,
   "metadata": {},
   "outputs": [],
   "source": [
    "#Joining weather nad warehouse tables\n",
    "snowflake_df = df_pd.merge(weather_df, how='inner', on='W_ZIP')"
   ]
  },
  {
   "cell_type": "code",
   "execution_count": 15,
   "metadata": {},
   "outputs": [
    {
     "name": "stderr",
     "output_type": "stream",
     "text": [
      "create_temp_table is deprecated. We still respect this parameter when it is True but please consider using `table_type=\"temporary\"` instead.\n"
     ]
    }
   ],
   "source": [
    "#Writing table to snowflake\n",
    "snowflake_df_1 = session.create_dataframe(snowflake_df)\n",
    "snowflake_df_1.write.mode(\"overwrite\").save_as_table(\"TEMP_DB.PUBLIC.warehouse_weather_api\")"
   ]
  },
  {
   "cell_type": "code",
   "execution_count": null,
   "metadata": {},
   "outputs": [],
   "source": [
    "#End of Code"
   ]
  }
 ],
 "metadata": {
  "kernelspec": {
   "display_name": "venv",
   "language": "python",
   "name": "python3"
  },
  "language_info": {
   "codemirror_mode": {
    "name": "ipython",
    "version": 3
   },
   "file_extension": ".py",
   "mimetype": "text/x-python",
   "name": "python",
   "nbconvert_exporter": "python",
   "pygments_lexer": "ipython3",
   "version": "3.8.0"
  },
  "orig_nbformat": 4,
  "vscode": {
   "interpreter": {
    "hash": "f8e4faccb72ebd62ac538de868191176a81fc3311176055798d95799e8a8500e"
   }
  }
 },
 "nbformat": 4,
 "nbformat_minor": 2
}
