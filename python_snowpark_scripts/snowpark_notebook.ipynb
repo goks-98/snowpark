{
 "cells": [
  {
   "cell_type": "code",
   "execution_count": 1,
   "metadata": {},
   "outputs": [],
   "source": [
    "import os\n",
    "from snowflake.snowpark import Session\n",
    "import requests\n",
    "import pandas as pd\n",
    "import json"
   ]
  },
  {
   "cell_type": "code",
   "execution_count": 2,
   "metadata": {},
   "outputs": [],
   "source": [
    "connection_parameters = {\n",
    "\"account\": \"ld77469.uae-north.azure\",\n",
    "\"user\": \"GOKS98\",\n",
    "\"password\": \"March20311\",\n",
    "\"role\": \"ACCOUNTADMIN\",\n",
    "\"warehouse\": \"SNOWFLAKE_WAREHOUSE\",\n",
    "\"database\": \"OIL_AND_GAS\",\n",
    "\"schema\": \"CONFORMED\"\n",
    " }"
   ]
  },
  {
   "cell_type": "code",
   "execution_count": 3,
   "metadata": {},
   "outputs": [
    {
     "name": "stdout",
     "output_type": "stream",
     "text": [
      "[Row(CURRENT_WAREHOUSE()='SNOWFLAKE_WAREHOUSE', CURRENT_DATABASE()='OIL_AND_GAS', CURRENT_SCHEMA()='CONFORMED')]\n"
     ]
    }
   ],
   "source": [
    "test_session = Session.builder.configs(connection_parameters).create()\n",
    "print(test_session.sql(\"select current_warehouse(), current_database(), current_schema()\").collect())  "
   ]
  },
  {
   "cell_type": "code",
   "execution_count": 4,
   "metadata": {},
   "outputs": [
    {
     "name": "stdout",
     "output_type": "stream",
     "text": [
      "{'coord': {'lon': 55.2708, 'lat': 25.2048}, 'weather': [{'id': 803, 'main': 'Clouds', 'description': 'broken clouds', 'icon': '04d'}], 'base': 'stations', 'main': {'temp': 305.17, 'feels_like': 306.43, 'temp_min': 305.16, 'temp_max': 306.36, 'pressure': 1012, 'humidity': 45}, 'visibility': 8000, 'wind': {'speed': 5.66, 'deg': 330}, 'clouds': {'all': 56}, 'dt': 1667218779, 'sys': {'type': 1, 'id': 7537, 'country': 'AE', 'sunrise': 1667183141, 'sunset': 1667223554}, 'timezone': 14400, 'id': 290845, 'name': 'Ash Shindaghah', 'cod': 200}\n"
     ]
    }
   ],
   "source": [
    "response = requests.get(\"https://api.openweathermap.org/data/2.5/weather?lat=25.2048&lon=55.2708&appid=b3effbd4d36024a4b9735d33830e7ca3\")\n",
    "data = response.json()\n",
    "print(data)"
   ]
  },
  {
   "cell_type": "code",
   "execution_count": 5,
   "metadata": {},
   "outputs": [
    {
     "data": {
      "text/html": [
       "<div>\n",
       "<style scoped>\n",
       "    .dataframe tbody tr th:only-of-type {\n",
       "        vertical-align: middle;\n",
       "    }\n",
       "\n",
       "    .dataframe tbody tr th {\n",
       "        vertical-align: top;\n",
       "    }\n",
       "\n",
       "    .dataframe thead th {\n",
       "        text-align: right;\n",
       "    }\n",
       "</style>\n",
       "<table border=\"1\" class=\"dataframe\">\n",
       "  <thead>\n",
       "    <tr style=\"text-align: right;\">\n",
       "      <th></th>\n",
       "      <th>weather</th>\n",
       "      <th>base</th>\n",
       "      <th>visibility</th>\n",
       "      <th>dt</th>\n",
       "      <th>timezone</th>\n",
       "      <th>id</th>\n",
       "      <th>name</th>\n",
       "      <th>cod</th>\n",
       "      <th>coord.lon</th>\n",
       "      <th>coord.lat</th>\n",
       "      <th>...</th>\n",
       "      <th>main.pressure</th>\n",
       "      <th>main.humidity</th>\n",
       "      <th>wind.speed</th>\n",
       "      <th>wind.deg</th>\n",
       "      <th>clouds.all</th>\n",
       "      <th>sys.type</th>\n",
       "      <th>sys.id</th>\n",
       "      <th>sys.country</th>\n",
       "      <th>sys.sunrise</th>\n",
       "      <th>sys.sunset</th>\n",
       "    </tr>\n",
       "  </thead>\n",
       "  <tbody>\n",
       "    <tr>\n",
       "      <th>0</th>\n",
       "      <td>[{'id': 803, 'main': 'Clouds', 'description': ...</td>\n",
       "      <td>stations</td>\n",
       "      <td>8000</td>\n",
       "      <td>1667218779</td>\n",
       "      <td>14400</td>\n",
       "      <td>290845</td>\n",
       "      <td>Ash Shindaghah</td>\n",
       "      <td>200</td>\n",
       "      <td>55.2708</td>\n",
       "      <td>25.2048</td>\n",
       "      <td>...</td>\n",
       "      <td>1012</td>\n",
       "      <td>45</td>\n",
       "      <td>5.66</td>\n",
       "      <td>330</td>\n",
       "      <td>56</td>\n",
       "      <td>1</td>\n",
       "      <td>7537</td>\n",
       "      <td>AE</td>\n",
       "      <td>1667183141</td>\n",
       "      <td>1667223554</td>\n",
       "    </tr>\n",
       "  </tbody>\n",
       "</table>\n",
       "<p>1 rows × 24 columns</p>\n",
       "</div>"
      ],
      "text/plain": [
       "                                             weather      base  visibility  \\\n",
       "0  [{'id': 803, 'main': 'Clouds', 'description': ...  stations        8000   \n",
       "\n",
       "           dt  timezone      id            name  cod  coord.lon  coord.lat  \\\n",
       "0  1667218779     14400  290845  Ash Shindaghah  200    55.2708    25.2048   \n",
       "\n",
       "   ...  main.pressure  main.humidity  wind.speed  wind.deg  clouds.all  \\\n",
       "0  ...           1012             45        5.66       330          56   \n",
       "\n",
       "   sys.type  sys.id  sys.country  sys.sunrise  sys.sunset  \n",
       "0         1    7537           AE   1667183141  1667223554  \n",
       "\n",
       "[1 rows x 24 columns]"
      ]
     },
     "execution_count": 5,
     "metadata": {},
     "output_type": "execute_result"
    }
   ],
   "source": [
    "df = pd.json_normalize(data)\n",
    "df"
   ]
  },
  {
   "cell_type": "code",
   "execution_count": 6,
   "metadata": {},
   "outputs": [],
   "source": [
    "df.to_clipboard()"
   ]
  },
  {
   "cell_type": "code",
   "execution_count": 7,
   "metadata": {},
   "outputs": [
    {
     "name": "stdout",
     "output_type": "stream",
     "text": [
      "-----------------------------------------------------------------------------------------------------\n",
      "|\"CUSTOMER_ID\"  |\"DATE\"    |\"SALUTATION\"  |\"FIRST_NAME\"  |\"LAST_NAME\"  |\"DATE_INSERT\"               |\n",
      "-----------------------------------------------------------------------------------------------------\n",
      "|62344124       |19970114  |Dr.           |Lisa          |Serrano      |2022-10-31 02:01:46.529000  |\n",
      "|62344125       |20020901  |Dr.           |Alexander     |Johnson      |2022-10-31 02:01:46.529000  |\n",
      "|62344126       |19980715  |Mr.           |Joseph        |May          |2022-10-31 02:01:46.529000  |\n",
      "|62344127       |19951203  |Dr.           |Delphia       |Henderson    |2022-10-31 02:01:46.529000  |\n",
      "|62344128       |19930528  |Miss          |Cynthia       |Boatright    |2022-10-31 02:01:46.529000  |\n",
      "|62344129       |19950314  |Ms.           |Sarah         |Palmer       |2022-10-31 02:01:46.529000  |\n",
      "|62344130       |19960224  |Sir           |Robert        |Reed         |2022-10-31 02:01:46.529000  |\n",
      "|62344131       |19980412  |Sir           |Elmer         |Howard       |2022-10-31 02:01:46.529000  |\n",
      "|62344132       |20020821  |Dr.           |Christopher   |Orlando      |2022-10-31 02:01:46.529000  |\n",
      "|62344133       |20011117  |Ms.           |Stephanie     |Correa       |2022-10-31 02:01:46.529000  |\n",
      "|62344134       |19960104  |Mrs.          |Lisa          |Bacon        |2022-10-31 02:01:46.529000  |\n",
      "|62344135       |19950922  |Miss          |Jane          |Echols       |2022-10-31 02:01:46.529000  |\n",
      "|62344136       |19980423  |Mrs.          |Samantha      |Whitley      |2022-10-31 02:01:46.529000  |\n",
      "|62344137       |19980331  |Ms.           |Debra         |Flagg        |2022-10-31 02:01:46.529000  |\n",
      "|62344138       |19971025  |Dr.           |Leon          |Wyatt        |2022-10-31 02:01:46.529000  |\n",
      "|62344139       |19940303  |Dr.           |Bernice       |Tuttle       |2022-10-31 02:01:46.529000  |\n",
      "|62344140       |19990414  |Ms.           |Christine     |Hall         |2022-10-31 02:01:46.529000  |\n",
      "|62344141       |19960426  |Dr.           |Brenda        |NULL         |2022-10-31 02:01:46.529000  |\n",
      "|62344142       |20011210  |Miss          |Sylvia        |Sisson       |2022-10-31 02:01:46.529000  |\n",
      "|62344143       |20010529  |Dr.           |Keith         |Pham         |2022-10-31 02:01:46.529000  |\n",
      "-----------------------------------------------------------------------------------------------------\n",
      "\n"
     ]
    }
   ],
   "source": [
    "cust_sql = test_session.table(\"OIL_AND_GAS.CONFORMED.CUSTOMER_TABLE\")\n",
    "cust_sql.show(20)\n",
    "cust_sql.show(10)"
   ]
  }
 ],
 "metadata": {
  "kernelspec": {
   "display_name": "Python 3.8.0 ('snowpark': venv)",
   "language": "python",
   "name": "python3"
  },
  "language_info": {
   "codemirror_mode": {
    "name": "ipython",
    "version": 3
   },
   "file_extension": ".py",
   "mimetype": "text/x-python",
   "name": "python",
   "nbconvert_exporter": "python",
   "pygments_lexer": "ipython3",
   "version": "3.8.0 (tags/v3.8.0:fa919fd, Oct 14 2019, 19:37:50) [MSC v.1916 64 bit (AMD64)]"
  },
  "orig_nbformat": 4,
  "vscode": {
   "interpreter": {
    "hash": "b4e8bdc03a829ad6f2e028ac0f678130f27844273263b6a1ec4908fe0235da3f"
   }
  }
 },
 "nbformat": 4,
 "nbformat_minor": 2
}
