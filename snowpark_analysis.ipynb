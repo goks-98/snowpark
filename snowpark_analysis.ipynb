{
 "cells": [
  {
   "cell_type": "code",
   "execution_count": 1,
   "metadata": {},
   "outputs": [],
   "source": [
    "from snowflake.snowpark import Session\n",
    "import pandas as pd\n",
    "import requests\n",
    "from snowflake.snowpark.functions import sproc"
   ]
  },
  {
   "cell_type": "code",
   "execution_count": 2,
   "metadata": {},
   "outputs": [],
   "source": [
    "#Connecting to snowflake\n",
    "connection_parameters = {\n",
    "\"account\": \"ld77469.uae-north.azure\",\n",
    "\"user\": \"GOKS98\",\n",
    "\"password\": \"March20311\",\n",
    "\"role\": \"ACCOUNTADMIN\",\n",
    "\"warehouse\": \"SNOWFLAKE_WAREHOUSE\",\n",
    "\"database\": \"OIL_AND_GAS\",\n",
    "\"schema\": \"CONFORMED\"\n",
    " }\n",
    "\n",
    "session = Session.builder.configs(connection_parameters).create()"
   ]
  },
  {
   "cell_type": "code",
   "execution_count": 3,
   "metadata": {},
   "outputs": [
    {
     "name": "stderr",
     "output_type": "stream",
     "text": [
      "The version of package snowflake-snowpark-python in the local environment is 0.12.0, which does not fit the criteria for the requirement snowflake-snowpark-python. Your UDF might not work when the package version is different between the server and your local environment\n"
     ]
    }
   ],
   "source": [
    "session.add_packages('pandas', 'requests', 'snowflake-snowpark-python')\n",
    "\n",
    "@sproc(session=session, is_permanent=True, stage_location='@MY_STAGE', name='sp_weather_join', replace=True)\n",
    "def api_weather(session: Session) -> str:\n",
    "    #Creating a Dataframe\n",
    "    df_table = session.table(\"SNOWFLAKE_SAMPLE_DATA.TPCDS_SF10TCL.WAREHOUSE\")\n",
    "\n",
    "    #Converting to pandas df to make manipulation easier\n",
    "    df_pd = df_table.to_pandas()\n",
    "\n",
    "    #Getting weather data from API for every zipcode\n",
    "    json_list = []\n",
    "    for i in df_pd['W_ZIP']:\n",
    "        response = requests.get(f\"http://api.openweathermap.org/geo/1.0/zip?zip={i},US&appid=b3effbd4d36024a4b9735d33830e7ca3\")\n",
    "        data = response.json()\n",
    "        json_list.append(data)\n",
    "    json_list\n",
    "\n",
    "    #Creating a new df with weather info and zip code\n",
    "    zip_code = df_pd['W_ZIP']\n",
    "    data = list(zip(zip_code, json_list))\n",
    "    weather_df = pd.DataFrame(data=data, columns=['W_ZIP', 'WEATHER_JSON'])\n",
    "    \n",
    "    #Joining weather nad warehouse tables\n",
    "    snowflake_df = df_pd.merge(weather_df, how='inner', on='W_ZIP')\n",
    "\n",
    "    snowflake_df_1 = session.create_dataframe(snowflake_df)\n",
    "    #Writing table to snowflake\n",
    "    snowflake_df_1.write.mode(\"overwrite\").save_as_table(\"w_warehouse_weather\")\n",
    "\n",
    "    return 'Success!!'\n",
    "    "
   ]
  },
  {
   "cell_type": "code",
   "execution_count": null,
   "metadata": {},
   "outputs": [],
   "source": []
  },
  {
   "cell_type": "code",
   "execution_count": 6,
   "metadata": {},
   "outputs": [
    {
     "name": "stderr",
     "output_type": "stream",
     "text": [
      "create_temp_table is deprecated. We still respect this parameter when it is True but please consider using `table_type=\"temporary\"` instead.\n"
     ]
    }
   ],
   "source": [
    "#Creating a Dataframe\n",
    "df_table = session.table(\"SNOWFLAKE_SAMPLE_DATA.TPCDS_SF10TCL.WAREHOUSE\")\n",
    "\n",
    "#Converting to pandas df to make manipulation easier\n",
    "df_pd = df_table.to_pandas()\n",
    "\n",
    "#Getting weather data from API for every zipcode\n",
    "json_list = []\n",
    "for i in df_pd['W_ZIP']:\n",
    "    response = requests.get(f\"http://api.openweathermap.org/geo/1.0/zip?zip={i},US&appid=b3effbd4d36024a4b9735d33830e7ca3\")\n",
    "    data = response.json()\n",
    "    json_list.append(data)\n",
    "json_list\n",
    "\n",
    "#Creating a new df with weather info and zip code\n",
    "zip_code = df_pd['W_ZIP']\n",
    "data = list(zip(zip_code, json_list))\n",
    "weather_df = pd.DataFrame(data=data, columns=['W_ZIP', 'WEATHER_JSON'])\n",
    "\n",
    "#Joining weather nad warehouse tables\n",
    "snowflake_df = df_pd.merge(weather_df, how='inner', on='W_ZIP')\n",
    "\n",
    "snowflake_df_1 = session.create_dataframe(snowflake_df)\n",
    "#Writing table to snowflake\n",
    "snowflake_df_1.write.mode(\"overwrite\").save_as_table(\"w_warehouse_weather\")"
   ]
  },
  {
   "cell_type": "code",
   "execution_count": null,
   "metadata": {},
   "outputs": [],
   "source": []
  }
 ],
 "metadata": {
  "kernelspec": {
   "display_name": "Python 3.8.0 ('snowpark': venv)",
   "language": "python",
   "name": "python3"
  },
  "language_info": {
   "codemirror_mode": {
    "name": "ipython",
    "version": 3
   },
   "file_extension": ".py",
   "mimetype": "text/x-python",
   "name": "python",
   "nbconvert_exporter": "python",
   "pygments_lexer": "ipython3",
   "version": "3.8.0"
  },
  "orig_nbformat": 4,
  "vscode": {
   "interpreter": {
    "hash": "b4e8bdc03a829ad6f2e028ac0f678130f27844273263b6a1ec4908fe0235da3f"
   }
  }
 },
 "nbformat": 4,
 "nbformat_minor": 2
}
