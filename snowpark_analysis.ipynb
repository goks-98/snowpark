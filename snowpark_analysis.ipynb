{
 "cells": [
  {
   "cell_type": "code",
   "execution_count": 12,
   "metadata": {},
   "outputs": [],
   "source": [
    "import os\n",
    "from snowflake.snowpark import Session\n",
    "import pandas as pd\n",
    "import requests"
   ]
  },
  {
   "cell_type": "code",
   "execution_count": 2,
   "metadata": {},
   "outputs": [],
   "source": [
    "#Connectig to snowflake\n",
    "connection_parameters = {\n",
    "\"account\": \"ld77469.uae-north.azure\",\n",
    "\"user\": \"GOKS98\",\n",
    "\"password\": \"March20311\",\n",
    "\"role\": \"ACCOUNTADMIN\",\n",
    "\"warehouse\": \"SNOWFLAKE_WAREHOUSE\"\n",
    " }\n",
    "\n",
    "session = Session.builder.configs(connection_parameters).create()"
   ]
  },
  {
   "cell_type": "code",
   "execution_count": 3,
   "metadata": {},
   "outputs": [
    {
     "name": "stdout",
     "output_type": "stream",
     "text": [
      "-------------------------------------------------------\n",
      "|\"W_WAREHOUSE_SK\"  |\"W_WAREHOUSE_NAME\"    |\"W_STATE\"  |\n",
      "-------------------------------------------------------\n",
      "|1                 |Conventional childr   |LA         |\n",
      "|2                 |Important issues liv  |SD         |\n",
      "|3                 |Doors canno           |WV         |\n",
      "|4                 |Bad cards must make.  |NE         |\n",
      "|5                 |NULL                  |CO         |\n",
      "|6                 |Local, mass universi  |WV         |\n",
      "|7                 |Quite effectiv        |WV         |\n",
      "|8                 |Plain, reluctant      |MI         |\n",
      "|9                 |Rooms cook            |TN         |\n",
      "|10                |National, comple      |WV         |\n",
      "-------------------------------------------------------\n",
      "\n"
     ]
    }
   ],
   "source": [
    "#Creating a Dataframe\n",
    "df_table = session.table(\"SNOWFLAKE_SAMPLE_DATA.TPCDS_SF10TCL.WAREHOUSE\").select([\"W_WAREHOUSE_SK\", \"W_WAREHOUSE_NAME\", \"W_STATE\"])\n",
    "df_table.show()"
   ]
  },
  {
   "cell_type": "code",
   "execution_count": 4,
   "metadata": {},
   "outputs": [
    {
     "name": "stdout",
     "output_type": "stream",
     "text": [
      "-----------------------------------------\n",
      "|\"W_STATE\"  |\"COUNT(W_WAREHOUSE_NAME)\"  |\n",
      "-----------------------------------------\n",
      "|CO         |4                          |\n",
      "|WV         |4                          |\n",
      "|LA         |2                          |\n",
      "|SD         |2                          |\n",
      "|NC         |2                          |\n",
      "|MO         |2                          |\n",
      "|NE         |1                          |\n",
      "|MI         |1                          |\n",
      "|TN         |1                          |\n",
      "|NM         |1                          |\n",
      "-----------------------------------------\n",
      "\n"
     ]
    }
   ],
   "source": [
    "#Checking the columns\n",
    "df_table_sql = session.sql(\"\"\"SELECT W_STATE, COUNT(W_WAREHOUSE_NAME) FROM SNOWFLAKE_SAMPLE_DATA.TPCDS_SF10TCL.WAREHOUSE\n",
    "                              GROUP BY W_STATE\n",
    "                              ORDER BY 2 DESC\"\"\")\n",
    "df_table_sql.show()\n"
   ]
  },
  {
   "cell_type": "code",
   "execution_count": 5,
   "metadata": {},
   "outputs": [
    {
     "name": "stdout",
     "output_type": "stream",
     "text": [
      "------------------------------------------------------------------------------------------------\n",
      "|\"W_WAREHOUSE_SK\"  |\"W_WAREHOUSE_NAME\"    |\"W_STATE\"  |\"INV_ITEM_SK\"  |\"INV_QUANTITY_ON_HAND\"  |\n",
      "------------------------------------------------------------------------------------------------\n",
      "|25                |Unexpected sup        |NC         |161206         |529                     |\n",
      "|2                 |Important issues liv  |SD         |161206         |921                     |\n",
      "|16                |Governments should    |CO         |161206         |871                     |\n",
      "|23                |Total sports leap a   |CO         |161206         |889                     |\n",
      "|18                |Surprising emot       |FL         |161206         |60                      |\n",
      "|9                 |Rooms cook            |TN         |161206         |862                     |\n",
      "|10                |National, comple      |WV         |161206         |649                     |\n",
      "|24                |Soon regular workers  |IN         |161206         |40                      |\n",
      "|21                |Agricultural measur   |NY         |161206         |247                     |\n",
      "|5                 |NULL                  |CO         |161206         |297                     |\n",
      "------------------------------------------------------------------------------------------------\n",
      "\n"
     ]
    }
   ],
   "source": [
    "#Joining tables\n",
    "df_1 = session.table(\"SNOWFLAKE_SAMPLE_DATA.TPCDS_SF10TCL.INVENTORY\").select([\"INV_WAREHOUSE_SK\",\"INV_ITEM_SK\", \"INV_QUANTITY_ON_HAND\"])\n",
    "df_join = df_table.join(df_1, df_1[\"INV_WAREHOUSE_SK\"] == df_table[\"W_WAREHOUSE_SK\"]).select([\"W_WAREHOUSE_SK\", \"W_WAREHOUSE_NAME\", \"W_STATE\", \"INV_ITEM_SK\",\\\n",
    "                        \"INV_QUANTITY_ON_HAND\"])\n",
    "df_join.show()"
   ]
  },
  {
   "cell_type": "code",
   "execution_count": 6,
   "metadata": {},
   "outputs": [
    {
     "data": {
      "text/plain": [
       "1311525000"
      ]
     },
     "execution_count": 6,
     "metadata": {},
     "output_type": "execute_result"
    }
   ],
   "source": [
    "df_join.count()         #Checking if the join was correct"
   ]
  },
  {
   "cell_type": "code",
   "execution_count": 13,
   "metadata": {},
   "outputs": [
    {
     "name": "stdout",
     "output_type": "stream",
     "text": [
      "{'coord': {'lon': 55.2708, 'lat': 25.2048}, 'weather': [{'id': 802, 'main': 'Clouds', 'description': 'scattered clouds', 'icon': '03d'}], 'base': 'stations', 'main': {'temp': 305.17, 'feels_like': 305.46, 'temp_min': 305.16, 'temp_max': 308.36, 'pressure': 1013, 'humidity': 40}, 'visibility': 7000, 'wind': {'speed': 4.63, 'deg': 330}, 'clouds': {'all': 28}, 'dt': 1667303711, 'sys': {'type': 1, 'id': 7537, 'country': 'AE', 'sunrise': 1667269578, 'sunset': 1667309914}, 'timezone': 14400, 'id': 290845, 'name': 'Ash Shindaghah', 'cod': 200}\n"
     ]
    }
   ],
   "source": [
    "response = requests.get(\"https://api.openweathermap.org/data/2.5/weather?lat=25.2048&lon=55.2708&appid=b3effbd4d36024a4b9735d33830e7ca3\")\n",
    "data = response.json()\n",
    "print(data)"
   ]
  },
  {
   "cell_type": "code",
   "execution_count": 14,
   "metadata": {},
   "outputs": [
    {
     "data": {
      "text/html": [
       "<div>\n",
       "<style scoped>\n",
       "    .dataframe tbody tr th:only-of-type {\n",
       "        vertical-align: middle;\n",
       "    }\n",
       "\n",
       "    .dataframe tbody tr th {\n",
       "        vertical-align: top;\n",
       "    }\n",
       "\n",
       "    .dataframe thead th {\n",
       "        text-align: right;\n",
       "    }\n",
       "</style>\n",
       "<table border=\"1\" class=\"dataframe\">\n",
       "  <thead>\n",
       "    <tr style=\"text-align: right;\">\n",
       "      <th></th>\n",
       "      <th>weather</th>\n",
       "      <th>base</th>\n",
       "      <th>visibility</th>\n",
       "      <th>dt</th>\n",
       "      <th>timezone</th>\n",
       "      <th>id</th>\n",
       "      <th>name</th>\n",
       "      <th>cod</th>\n",
       "      <th>coord.lon</th>\n",
       "      <th>coord.lat</th>\n",
       "      <th>...</th>\n",
       "      <th>main.pressure</th>\n",
       "      <th>main.humidity</th>\n",
       "      <th>wind.speed</th>\n",
       "      <th>wind.deg</th>\n",
       "      <th>clouds.all</th>\n",
       "      <th>sys.type</th>\n",
       "      <th>sys.id</th>\n",
       "      <th>sys.country</th>\n",
       "      <th>sys.sunrise</th>\n",
       "      <th>sys.sunset</th>\n",
       "    </tr>\n",
       "  </thead>\n",
       "  <tbody>\n",
       "    <tr>\n",
       "      <th>0</th>\n",
       "      <td>[{'id': 802, 'main': 'Clouds', 'description': ...</td>\n",
       "      <td>stations</td>\n",
       "      <td>7000</td>\n",
       "      <td>1667303711</td>\n",
       "      <td>14400</td>\n",
       "      <td>290845</td>\n",
       "      <td>Ash Shindaghah</td>\n",
       "      <td>200</td>\n",
       "      <td>55.2708</td>\n",
       "      <td>25.2048</td>\n",
       "      <td>...</td>\n",
       "      <td>1013</td>\n",
       "      <td>40</td>\n",
       "      <td>4.63</td>\n",
       "      <td>330</td>\n",
       "      <td>28</td>\n",
       "      <td>1</td>\n",
       "      <td>7537</td>\n",
       "      <td>AE</td>\n",
       "      <td>1667269578</td>\n",
       "      <td>1667309914</td>\n",
       "    </tr>\n",
       "  </tbody>\n",
       "</table>\n",
       "<p>1 rows × 24 columns</p>\n",
       "</div>"
      ],
      "text/plain": [
       "                                             weather      base  visibility  \\\n",
       "0  [{'id': 802, 'main': 'Clouds', 'description': ...  stations        7000   \n",
       "\n",
       "           dt  timezone      id            name  cod  coord.lon  coord.lat  \\\n",
       "0  1667303711     14400  290845  Ash Shindaghah  200    55.2708    25.2048   \n",
       "\n",
       "   ...  main.pressure  main.humidity  wind.speed  wind.deg  clouds.all  \\\n",
       "0  ...           1013             40        4.63       330          28   \n",
       "\n",
       "   sys.type  sys.id  sys.country  sys.sunrise  sys.sunset  \n",
       "0         1    7537           AE   1667269578  1667309914  \n",
       "\n",
       "[1 rows x 24 columns]"
      ]
     },
     "execution_count": 14,
     "metadata": {},
     "output_type": "execute_result"
    }
   ],
   "source": [
    "weather_df = pd.json_normalize(data)\n",
    "weather_df"
   ]
  },
  {
   "cell_type": "code",
   "execution_count": null,
   "metadata": {},
   "outputs": [],
   "source": []
  }
 ],
 "metadata": {
  "kernelspec": {
   "display_name": "Python 3.8.0 ('snowpark': venv)",
   "language": "python",
   "name": "python3"
  },
  "language_info": {
   "codemirror_mode": {
    "name": "ipython",
    "version": 3
   },
   "file_extension": ".py",
   "mimetype": "text/x-python",
   "name": "python",
   "nbconvert_exporter": "python",
   "pygments_lexer": "ipython3",
   "version": "3.8.0"
  },
  "orig_nbformat": 4,
  "vscode": {
   "interpreter": {
    "hash": "b4e8bdc03a829ad6f2e028ac0f678130f27844273263b6a1ec4908fe0235da3f"
   }
  }
 },
 "nbformat": 4,
 "nbformat_minor": 2
}
