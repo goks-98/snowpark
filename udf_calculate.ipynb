{
 "cells": [
  {
   "cell_type": "code",
   "execution_count": 1,
   "metadata": {},
   "outputs": [],
   "source": [
    "import pandas as pd\n",
    "from snowflake.snowpark import Session\n",
    "from snowflake.snowpark.functions import udf\n",
    "from snowflake.snowpark.types import StringType\n",
    "from snowflake.snowpark.types import IntegerType"
   ]
  },
  {
   "cell_type": "code",
   "execution_count": 2,
   "metadata": {},
   "outputs": [],
   "source": [
    "#Connecting to snowflake\n",
    "connection_parameters = {\n",
    "\"account\": \"ld77469.uae-north.azure\",\n",
    "\"user\": \"GOKS98\",\n",
    "\"password\": \"March20311\",\n",
    "\"role\": \"ACCOUNTADMIN\",\n",
    "\"warehouse\": \"SNOWFLAKE_WAREHOUSE\",\n",
    "\"database\": \"OIL_AND_GAS\",\n",
    "\"schema\": \"CONFORMED\"\n",
    " }\n",
    "\n",
    "session = Session.builder.configs(connection_parameters).create()"
   ]
  },
  {
   "cell_type": "code",
   "execution_count": 6,
   "metadata": {},
   "outputs": [],
   "source": [
    "session.add_packages(\"pandas\")\n",
    "\n",
    "@udf(name=\"minus_one\", is_permanent=True, stage_location=\"@my_stage\", replace=True)\n",
    "def minus_one(x: int) -> int:\n",
    "  return x-1"
   ]
  },
  {
   "cell_type": "code",
   "execution_count": 4,
   "metadata": {},
   "outputs": [
    {
     "data": {
      "text/plain": [
       "<snowflake.snowpark.udf.UserDefinedFunction at 0x2839385a310>"
      ]
     },
     "execution_count": 4,
     "metadata": {},
     "output_type": "execute_result"
    }
   ],
   "source": [
    "#session.udf.register(\n",
    " #   func = minus_one\n",
    " # , return_type = IntegerType()\n",
    " # , input_types = [StringType()]\n",
    " # , is_permanent = True\n",
    " # , name = 'minus_one'\n",
    " # , replace = True\n",
    " # , stage_location = '@my_stage'\n",
    " #)"
   ]
  },
  {
   "cell_type": "code",
   "execution_count": 7,
   "metadata": {},
   "outputs": [
    {
     "name": "stdout",
     "output_type": "stream",
     "text": [
      "--------------------------------------------------------\n",
      "|\"I_CURRENT_PRICE\"  |\"MINUS_ONE(\"\"I_CURRENT_PRICE\"\")\"  |\n",
      "--------------------------------------------------------\n",
      "|1.33               |0                                 |\n",
      "|2.31               |1                                 |\n",
      "|5.48               |4                                 |\n",
      "|65.65              |64                                |\n",
      "|6.42               |5                                 |\n",
      "|0.66               |0                                 |\n",
      "|3.31               |2                                 |\n",
      "|3.84               |2                                 |\n",
      "|8.98               |7                                 |\n",
      "|0.33               |0                                 |\n",
      "|60.77              |59                                |\n",
      "|2.45               |1                                 |\n",
      "|4.41               |3                                 |\n",
      "|2.34               |1                                 |\n",
      "|1.13               |0                                 |\n",
      "|5.52               |4                                 |\n",
      "|4.41               |3                                 |\n",
      "|6.74               |5                                 |\n",
      "|7.47               |6                                 |\n",
      "|8.37               |7                                 |\n",
      "--------------------------------------------------------\n",
      "\n"
     ]
    }
   ],
   "source": [
    "df = session.table(\"SNOWFLAKE_SAMPLE_DATA.TPCDS_SF100TCL.ITEM\")\n",
    "df.select('I_CURRENT_PRICE',minus_one('I_CURRENT_PRICE')).show(20)"
   ]
  },
  {
   "cell_type": "code",
   "execution_count": null,
   "metadata": {},
   "outputs": [],
   "source": []
  }
 ],
 "metadata": {
  "kernelspec": {
   "display_name": "Python 3.8.0 ('snowpark': venv)",
   "language": "python",
   "name": "python3"
  },
  "language_info": {
   "codemirror_mode": {
    "name": "ipython",
    "version": 3
   },
   "file_extension": ".py",
   "mimetype": "text/x-python",
   "name": "python",
   "nbconvert_exporter": "python",
   "pygments_lexer": "ipython3",
   "version": "3.8.0"
  },
  "orig_nbformat": 4,
  "vscode": {
   "interpreter": {
    "hash": "b4e8bdc03a829ad6f2e028ac0f678130f27844273263b6a1ec4908fe0235da3f"
   }
  }
 },
 "nbformat": 4,
 "nbformat_minor": 2
}
