{
 "cells": [
  {
   "cell_type": "code",
   "execution_count": 15,
   "metadata": {},
   "outputs": [],
   "source": [
    "import pandas as pd\n",
    "from snowflake.snowpark import Session\n",
    "from snowflake.snowpark.functions import udf\n",
    "from snowflake.snowpark.types import StringType\n",
    "from snowflake.snowpark.types import IntegerType"
   ]
  },
  {
   "cell_type": "code",
   "execution_count": 16,
   "metadata": {},
   "outputs": [],
   "source": [
    "#Connecting to snowflake\n",
    "connection_parameters = {\n",
    "\"account\": \"ld77469.uae-north.azure\",\n",
    "\"user\": \"GOKS98\",\n",
    "\"password\": \"March20311\",\n",
    "\"role\": \"ACCOUNTADMIN\",\n",
    "\"warehouse\": \"SNOWFLAKE_WAREHOUSE\",\n",
    "\"database\": \"OIL_AND_GAS\",\n",
    "\"schema\": \"CONFORMED\"\n",
    " }\n",
    "\n",
    "session = Session.builder.configs(connection_parameters).create()"
   ]
  },
  {
   "cell_type": "code",
   "execution_count": 17,
   "metadata": {},
   "outputs": [
    {
     "ename": "SnowparkSessionException",
     "evalue": "(1409): More than one active session is detected. When you call function 'udf' or use decorator '@udf', you must specify the 'session' parameter if you created multiple sessions.Alternatively, you can use 'session.udf.register' to register UDFs",
     "output_type": "error",
     "traceback": [
      "\u001b[1;31m---------------------------------------------------------------------------\u001b[0m",
      "\u001b[1;31mSnowparkSessionException\u001b[0m                  Traceback (most recent call last)",
      "Cell \u001b[1;32mIn [17], line 3\u001b[0m\n\u001b[0;32m      1\u001b[0m session\u001b[39m.\u001b[39madd_packages(\u001b[39m\"\u001b[39m\u001b[39mpandas\u001b[39m\u001b[39m\"\u001b[39m)\n\u001b[1;32m----> 3\u001b[0m \u001b[39m@udf\u001b[39m(name\u001b[39m=\u001b[39;49m\u001b[39m\"\u001b[39;49m\u001b[39mminus_one\u001b[39;49m\u001b[39m\"\u001b[39;49m, is_permanent\u001b[39m=\u001b[39;49m\u001b[39mTrue\u001b[39;49;00m, stage_location\u001b[39m=\u001b[39;49m\u001b[39m\"\u001b[39;49m\u001b[39m@my_stage\u001b[39;49m\u001b[39m\"\u001b[39;49m, replace\u001b[39m=\u001b[39;49m\u001b[39mTrue\u001b[39;49;00m)\n\u001b[0;32m      4\u001b[0m \u001b[39mdef\u001b[39;00m \u001b[39mminus_one\u001b[39m(x: \u001b[39mint\u001b[39m) \u001b[39m-\u001b[39m\u001b[39m>\u001b[39m \u001b[39mint\u001b[39m:\n\u001b[0;32m      5\u001b[0m   \u001b[39mreturn\u001b[39;00m x\u001b[39m-\u001b[39m\u001b[39m1\u001b[39m\n",
      "File \u001b[1;32mc:\\Users\\gokul\\OneDrive\\Documents\\Snowpark\\snowpark\\lib\\site-packages\\snowflake\\snowpark\\functions.py:3058\u001b[0m, in \u001b[0;36mudf\u001b[1;34m(func, return_type, input_types, name, is_permanent, stage_location, imports, packages, replace, session, parallel, max_batch_size, statement_params, source_code_display)\u001b[0m\n\u001b[0;32m   2934\u001b[0m \u001b[39mdef\u001b[39;00m \u001b[39mudf\u001b[39m(\n\u001b[0;32m   2935\u001b[0m     func: Optional[Callable] \u001b[39m=\u001b[39m \u001b[39mNone\u001b[39;00m,\n\u001b[0;32m   2936\u001b[0m     \u001b[39m*\u001b[39m,\n\u001b[1;32m   (...)\u001b[0m\n\u001b[0;32m   2949\u001b[0m     source_code_display: \u001b[39mbool\u001b[39m \u001b[39m=\u001b[39m \u001b[39mTrue\u001b[39;00m,\n\u001b[0;32m   2950\u001b[0m ) \u001b[39m-\u001b[39m\u001b[39m>\u001b[39m Union[UserDefinedFunction, functools\u001b[39m.\u001b[39mpartial]:\n\u001b[0;32m   2951\u001b[0m     \u001b[39m\"\"\"Registers a Python function as a Snowflake Python UDF and returns the UDF.\u001b[39;00m\n\u001b[0;32m   2952\u001b[0m \n\u001b[0;32m   2953\u001b[0m \u001b[39m    It can be used as either a function call or a decorator. In most cases you work with a single session.\u001b[39;00m\n\u001b[1;32m   (...)\u001b[0m\n\u001b[0;32m   3056\u001b[0m \u001b[39m        :class:`~snowflake.snowpark.udf.UDFRegistration`\u001b[39;00m\n\u001b[0;32m   3057\u001b[0m \u001b[39m    \"\"\"\u001b[39;00m\n\u001b[1;32m-> 3058\u001b[0m     session \u001b[39m=\u001b[39m session \u001b[39mor\u001b[39;00m snowflake\u001b[39m.\u001b[39;49msnowpark\u001b[39m.\u001b[39;49msession\u001b[39m.\u001b[39;49m_get_active_session()\n\u001b[0;32m   3059\u001b[0m     \u001b[39mif\u001b[39;00m func \u001b[39mis\u001b[39;00m \u001b[39mNone\u001b[39;00m:\n\u001b[0;32m   3060\u001b[0m         \u001b[39mreturn\u001b[39;00m functools\u001b[39m.\u001b[39mpartial(\n\u001b[0;32m   3061\u001b[0m             session\u001b[39m.\u001b[39mudf\u001b[39m.\u001b[39mregister,\n\u001b[0;32m   3062\u001b[0m             return_type\u001b[39m=\u001b[39mreturn_type,\n\u001b[1;32m   (...)\u001b[0m\n\u001b[0;32m   3073\u001b[0m             source_code_display\u001b[39m=\u001b[39msource_code_display,\n\u001b[0;32m   3074\u001b[0m         )\n",
      "File \u001b[1;32mc:\\Users\\gokul\\OneDrive\\Documents\\Snowpark\\snowpark\\lib\\site-packages\\snowflake\\snowpark\\session.py:137\u001b[0m, in \u001b[0;36m_get_active_session\u001b[1;34m()\u001b[0m\n\u001b[0;32m    135\u001b[0m     \u001b[39mreturn\u001b[39;00m \u001b[39mnext\u001b[39m(\u001b[39miter\u001b[39m(_active_sessions))\n\u001b[0;32m    136\u001b[0m \u001b[39melif\u001b[39;00m \u001b[39mlen\u001b[39m(_active_sessions) \u001b[39m>\u001b[39m \u001b[39m1\u001b[39m:\n\u001b[1;32m--> 137\u001b[0m     \u001b[39mraise\u001b[39;00m SnowparkClientExceptionMessages\u001b[39m.\u001b[39mMORE_THAN_ONE_ACTIVE_SESSIONS()\n\u001b[0;32m    138\u001b[0m \u001b[39melse\u001b[39;00m:\n\u001b[0;32m    139\u001b[0m     \u001b[39mraise\u001b[39;00m SnowparkClientExceptionMessages\u001b[39m.\u001b[39mSERVER_NO_DEFAULT_SESSION()\n",
      "\u001b[1;31mSnowparkSessionException\u001b[0m: (1409): More than one active session is detected. When you call function 'udf' or use decorator '@udf', you must specify the 'session' parameter if you created multiple sessions.Alternatively, you can use 'session.udf.register' to register UDFs"
     ]
    }
   ],
   "source": [
    "session.add_packages(\"pandas\")\n",
    "\n",
    "@udf(name=\"minus_one\", is_permanent=True, stage_location=\"@my_stage\", replace=True)\n",
    "def minus_one(x: int) -> int:\n",
    "  return x-1"
   ]
  },
  {
   "cell_type": "code",
   "execution_count": null,
   "metadata": {},
   "outputs": [],
   "source": [
    "session.udf.register(\n",
    "    func = minus_one\n",
    "  , return_type = StringType()\n",
    "  , input_types = [IntegerType()]\n",
    "  , is_permanent = True\n",
    "  , name = 'minus_one'\n",
    "  , replace = True\n",
    "  , stage_location = '@UDF_STAGE'\n",
    ")"
   ]
  },
  {
   "cell_type": "code",
   "execution_count": 18,
   "metadata": {},
   "outputs": [
    {
     "ename": "SnowparkSessionException",
     "evalue": "(1409): More than one active session is detected. When you call function 'udf' or use decorator '@udf', you must specify the 'session' parameter if you created multiple sessions.Alternatively, you can use 'session.udf.register' to register UDFs",
     "output_type": "error",
     "traceback": [
      "\u001b[1;31m---------------------------------------------------------------------------\u001b[0m",
      "\u001b[1;31mSnowparkSessionException\u001b[0m                  Traceback (most recent call last)",
      "Cell \u001b[1;32mIn [18], line 2\u001b[0m\n\u001b[0;32m      1\u001b[0m df \u001b[39m=\u001b[39m session\u001b[39m.\u001b[39mtable(\u001b[39m\"\u001b[39m\u001b[39mSNOWFLAKE_SAMPLE_DATA.TPCDS_SF100TCL.ITEM\u001b[39m\u001b[39m\"\u001b[39m)\u001b[39m.\u001b[39mselect(\u001b[39m'\u001b[39m\u001b[39mI_CURRENT_PRICE\u001b[39m\u001b[39m'\u001b[39m)\n\u001b[1;32m----> 2\u001b[0m df\u001b[39m.\u001b[39mselect(\u001b[39m'\u001b[39m\u001b[39mI_CURRENT_PRICE\u001b[39m\u001b[39m'\u001b[39m,minus_one(\u001b[39m'\u001b[39;49m\u001b[39mI_CURRENT_PRICE\u001b[39;49m\u001b[39m'\u001b[39;49m))\u001b[39m.\u001b[39mshow(\u001b[39m20\u001b[39m)\n",
      "File \u001b[1;32mc:\\Users\\gokul\\OneDrive\\Documents\\Snowpark\\snowpark\\lib\\site-packages\\snowflake\\snowpark\\udf.py:89\u001b[0m, in \u001b[0;36mUserDefinedFunction.__call__\u001b[1;34m(self, *cols)\u001b[0m\n\u001b[0;32m     84\u001b[0m     \u001b[39melse\u001b[39;00m:\n\u001b[0;32m     85\u001b[0m         \u001b[39mraise\u001b[39;00m \u001b[39mTypeError\u001b[39;00m(\n\u001b[0;32m     86\u001b[0m             \u001b[39mf\u001b[39m\u001b[39m\"\u001b[39m\u001b[39mThe input of UDF \u001b[39m\u001b[39m{\u001b[39;00m\u001b[39mself\u001b[39m\u001b[39m.\u001b[39mname\u001b[39m}\u001b[39;00m\u001b[39m must be Column, column name, or a list of them\u001b[39m\u001b[39m\"\u001b[39m\n\u001b[0;32m     87\u001b[0m         )\n\u001b[1;32m---> 89\u001b[0m session \u001b[39m=\u001b[39m snowflake\u001b[39m.\u001b[39;49msnowpark\u001b[39m.\u001b[39;49mcontext\u001b[39m.\u001b[39;49mget_active_session()\n\u001b[0;32m     90\u001b[0m session\u001b[39m.\u001b[39m_conn\u001b[39m.\u001b[39m_telemetry_client\u001b[39m.\u001b[39msend_function_usage_telemetry(\n\u001b[0;32m     91\u001b[0m     \u001b[39m\"\u001b[39m\u001b[39mUserDefinedFunction.__call__\u001b[39m\u001b[39m\"\u001b[39m, TelemetryField\u001b[39m.\u001b[39mFUNC_CAT_USAGE\u001b[39m.\u001b[39mvalue\n\u001b[0;32m     92\u001b[0m )\n\u001b[0;32m     93\u001b[0m \u001b[39mreturn\u001b[39;00m Column(\u001b[39mself\u001b[39m\u001b[39m.\u001b[39m_create_udf_expression(exprs))\n",
      "File \u001b[1;32mc:\\Users\\gokul\\OneDrive\\Documents\\Snowpark\\snowpark\\lib\\site-packages\\snowflake\\snowpark\\context.py:19\u001b[0m, in \u001b[0;36mget_active_session\u001b[1;34m()\u001b[0m\n\u001b[0;32m     11\u001b[0m \u001b[39mdef\u001b[39;00m \u001b[39mget_active_session\u001b[39m() \u001b[39m-\u001b[39m\u001b[39m>\u001b[39m \u001b[39m\"\u001b[39m\u001b[39msnowflake.snowpark.Session\u001b[39m\u001b[39m\"\u001b[39m:\n\u001b[0;32m     12\u001b[0m     \u001b[39m\"\"\"Returns the current active Snowpark session.\u001b[39;00m\n\u001b[0;32m     13\u001b[0m \n\u001b[0;32m     14\u001b[0m \u001b[39m    Raises: SnowparkSessionException: If there is more than one active session or no active sessions.\u001b[39;00m\n\u001b[1;32m   (...)\u001b[0m\n\u001b[0;32m     17\u001b[0m \u001b[39m        A :class:`Session` object for the current session.\u001b[39;00m\n\u001b[0;32m     18\u001b[0m \u001b[39m    \"\"\"\u001b[39;00m\n\u001b[1;32m---> 19\u001b[0m     \u001b[39mreturn\u001b[39;00m snowflake\u001b[39m.\u001b[39;49msnowpark\u001b[39m.\u001b[39;49msession\u001b[39m.\u001b[39;49m_get_active_session()\n",
      "File \u001b[1;32mc:\\Users\\gokul\\OneDrive\\Documents\\Snowpark\\snowpark\\lib\\site-packages\\snowflake\\snowpark\\session.py:137\u001b[0m, in \u001b[0;36m_get_active_session\u001b[1;34m()\u001b[0m\n\u001b[0;32m    135\u001b[0m     \u001b[39mreturn\u001b[39;00m \u001b[39mnext\u001b[39m(\u001b[39miter\u001b[39m(_active_sessions))\n\u001b[0;32m    136\u001b[0m \u001b[39melif\u001b[39;00m \u001b[39mlen\u001b[39m(_active_sessions) \u001b[39m>\u001b[39m \u001b[39m1\u001b[39m:\n\u001b[1;32m--> 137\u001b[0m     \u001b[39mraise\u001b[39;00m SnowparkClientExceptionMessages\u001b[39m.\u001b[39mMORE_THAN_ONE_ACTIVE_SESSIONS()\n\u001b[0;32m    138\u001b[0m \u001b[39melse\u001b[39;00m:\n\u001b[0;32m    139\u001b[0m     \u001b[39mraise\u001b[39;00m SnowparkClientExceptionMessages\u001b[39m.\u001b[39mSERVER_NO_DEFAULT_SESSION()\n",
      "\u001b[1;31mSnowparkSessionException\u001b[0m: (1409): More than one active session is detected. When you call function 'udf' or use decorator '@udf', you must specify the 'session' parameter if you created multiple sessions.Alternatively, you can use 'session.udf.register' to register UDFs"
     ]
    }
   ],
   "source": [
    "df = session.table(\"SNOWFLAKE_SAMPLE_DATA.TPCDS_SF100TCL.ITEM\").select('I_CURRENT_PRICE')\n",
    "df.select('I_CURRENT_PRICE',minus_one('I_CURRENT_PRICE')).show(20)"
   ]
  },
  {
   "cell_type": "code",
   "execution_count": null,
   "metadata": {},
   "outputs": [],
   "source": []
  }
 ],
 "metadata": {
  "kernelspec": {
   "display_name": "Python 3.8.0 ('snowpark': venv)",
   "language": "python",
   "name": "python3"
  },
  "language_info": {
   "codemirror_mode": {
    "name": "ipython",
    "version": 3
   },
   "file_extension": ".py",
   "mimetype": "text/x-python",
   "name": "python",
   "nbconvert_exporter": "python",
   "pygments_lexer": "ipython3",
   "version": "3.8.0"
  },
  "orig_nbformat": 4,
  "vscode": {
   "interpreter": {
    "hash": "b4e8bdc03a829ad6f2e028ac0f678130f27844273263b6a1ec4908fe0235da3f"
   }
  }
 },
 "nbformat": 4,
 "nbformat_minor": 2
}
